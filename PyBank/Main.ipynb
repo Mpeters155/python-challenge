{
 "cells": [
  {
   "cell_type": "code",
   "execution_count": 1,
   "id": "2aa76636-3ba7-4c6c-9c2b-5cfa92c246e4",
   "metadata": {
    "tags": []
   },
   "outputs": [],
   "source": [
    "# Importing libraries\n",
    "from pathlib import Path\n",
    "import csv"
   ]
  },
  {
   "cell_type": "code",
   "execution_count": 2,
   "id": "800950ce-ce79-4be3-8aa5-f9ec2658a6ae",
   "metadata": {},
   "outputs": [],
   "source": [
    "# Setting the file path\n",
    "csvpath = Path(\"./budget_data.csv\")"
   ]
  },
  {
   "cell_type": "code",
   "execution_count": 3,
   "id": "101dfb4f-45b1-4a8f-be2e-3f5619d0f92e",
   "metadata": {},
   "outputs": [],
   "source": [
    "# Initializing all variables and lists\n",
    "total_months = 0\n",
    "net_prof = 0\n",
    "max_prof = 0\n",
    "min_prof = 0\n",
    "avg = 0\n",
    "greatest = 0\n",
    "lowest = 0\n",
    "profits = []\n",
    "monthly_change = []"
   ]
  },
  {
   "cell_type": "code",
   "execution_count": 4,
   "id": "3ad824e7-00e6-4734-adfc-93143fdb9246",
   "metadata": {
    "tags": []
   },
   "outputs": [
    {
     "name": "stdout",
     "output_type": "stream",
     "text": [
      "['Date', 'Profit/Losses'] <------ Header\n",
      "<class '_csv.reader'>\n",
      "['Jan-2010', '867884']\n",
      "['Feb-2010', '984655']\n",
      "['Mar-2010', '322013']\n",
      "['Apr-2010', '-69417']\n",
      "['May-2010', '310503']\n",
      "['Jun-2010', '522857']\n",
      "['Jul-2010', '1033096']\n",
      "['Aug-2010', '604885']\n",
      "['Sep-2010', '-216386']\n",
      "['Oct-2010', '477532']\n",
      "['Nov-2010', '893810']\n",
      "['Dec-2010', '-80353']\n",
      "['Jan-2011', '779806']\n",
      "['Feb-2011', '-335203']\n",
      "['Mar-2011', '697845']\n",
      "['Apr-2011', '793163']\n",
      "['May-2011', '485070']\n",
      "['Jun-2011', '584122']\n",
      "['Jul-2011', '62729']\n",
      "['Aug-2011', '668179']\n",
      "['Sep-2011', '899906']\n",
      "['Oct-2011', '834719']\n",
      "['Nov-2011', '132003']\n",
      "['Dec-2011', '309978']\n",
      "['Jan-2012', '-755566']\n",
      "['Feb-2012', '1170593']\n",
      "['Mar-2012', '252788']\n",
      "['Apr-2012', '1151518']\n",
      "['May-2012', '817256']\n",
      "['Jun-2012', '570757']\n",
      "['Jul-2012', '506702']\n",
      "['Aug-2012', '-1022534']\n",
      "['Sep-2012', '475062']\n",
      "['Oct-2012', '779976']\n",
      "['Nov-2012', '144175']\n",
      "['Dec-2012', '542494']\n",
      "['Jan-2013', '359333']\n",
      "['Feb-2013', '321469']\n",
      "['Mar-2013', '67780']\n",
      "['Apr-2013', '471435']\n",
      "['May-2013', '565603']\n",
      "['Jun-2013', '872480']\n",
      "['Jul-2013', '789480']\n",
      "['Aug-2013', '999942']\n",
      "['Sep-2013', '-1196225']\n",
      "['Oct-2013', '268997']\n",
      "['Nov-2013', '-687986']\n",
      "['Dec-2013', '1150461']\n",
      "['Jan-2014', '682458']\n",
      "['Feb-2014', '617856']\n",
      "['Mar-2014', '824098']\n",
      "['Apr-2014', '581943']\n",
      "['May-2014', '132864']\n",
      "['Jun-2014', '448062']\n",
      "['Jul-2014', '689161']\n",
      "['Aug-2014', '800701']\n",
      "['Sep-2014', '1166643']\n",
      "['Oct-2014', '947333']\n",
      "['Nov-2014', '578668']\n",
      "['Dec-2014', '988505']\n",
      "['Jan-2015', '1139715']\n",
      "['Feb-2015', '1029471']\n",
      "['Mar-2015', '687533']\n",
      "['Apr-2015', '-524626']\n",
      "['May-2015', '158620']\n",
      "['Jun-2015', '87795']\n",
      "['Jul-2015', '423389']\n",
      "['Aug-2015', '840723']\n",
      "['Sep-2015', '568529']\n",
      "['Oct-2015', '332067']\n",
      "['Nov-2015', '989499']\n",
      "['Dec-2015', '778237']\n",
      "['Jan-2016', '650000']\n",
      "['Feb-2016', '-1100387']\n",
      "['Mar-2016', '-174946']\n",
      "['Apr-2016', '757143']\n",
      "['May-2016', '445709']\n",
      "['Jun-2016', '712961']\n",
      "['Jul-2016', '-1163797']\n",
      "['Aug-2016', '569899']\n",
      "['Sep-2016', '768450']\n",
      "['Oct-2016', '102685']\n",
      "['Nov-2016', '795914']\n",
      "['Dec-2016', '60988']\n",
      "['Jan-2017', '138230']\n",
      "['Feb-2017', '671099']\n"
     ]
    }
   ],
   "source": [
    "# Reading and importing the csv file into a list, printing the list to check it imported correctly\n",
    "with open (csvpath, 'r') as f:\n",
    "    reader = csv.reader(f, delimiter=',')\n",
    "    header = next(reader)\n",
    "    print(f'{header} <------ Header')\n",
    "    print(type(reader))\n",
    "    for row in reader:\n",
    "        print(row)\n",
    "        # Copying values into a separate list\n",
    "        prof_loss = int(row[1])\n",
    "        profits.append(prof_loss)"
   ]
  },
  {
   "cell_type": "code",
   "execution_count": 5,
   "id": "6d77d33b-0bdd-49a7-804d-f37233e44cf4",
   "metadata": {
    "tags": []
   },
   "outputs": [
    {
     "name": "stdout",
     "output_type": "stream",
     "text": [
      "86\n",
      "38382578\n",
      "1170593\n",
      "-1196225\n",
      "-2315.12\n",
      "1926159\n",
      "-2196167\n"
     ]
    }
   ],
   "source": [
    "# Logic for calculating the number of entries, net profit, greatest monthly profit and loss, average monthly change\n",
    "for prof_loss in profits:\n",
    "    total_months += 1\n",
    "    net_prof += prof_loss\n",
    "    \n",
    "    if min_prof == 0:\n",
    "        min_prof = prof_loss\n",
    "    elif prof_loss > max_prof:\n",
    "        max_prof = prof_loss\n",
    "    elif prof_loss < min_prof:\n",
    "        min_prof = prof_loss\n",
    "\n",
    "for i in range(1,len(profits)):\n",
    "    x = profits[i] - profits[i-1]\n",
    "    monthly_change.append(x)\n",
    "avg = round(sum(monthly_change) / len(monthly_change),2)\n",
    "\n",
    "\n",
    "for price_change in monthly_change:\n",
    "    if lowest == 0:\n",
    "        lowest = price_change\n",
    "    elif price_change > greatest:\n",
    "        greatest = price_change\n",
    "    elif price_change < lowest:\n",
    "        lowest = price_change\n",
    "# Printing results of calculations\n",
    "print(total_months)\n",
    "print(net_prof)\n",
    "print(max_prof)\n",
    "print(min_prof)\n",
    "print(avg)\n",
    "print(greatest)\n",
    "print(lowest)"
   ]
  },
  {
   "cell_type": "code",
   "execution_count": 6,
   "id": "ea026709-4a0d-458e-be25-626d54c20c8a",
   "metadata": {
    "tags": []
   },
   "outputs": [],
   "source": [
    "# Loading csv file into a dictionary\n",
    "with open (csvpath, 'r') as f:\n",
    "    reader = csv.reader(f, delimiter=',')\n",
    "    header = next(reader)\n",
    "    row = reader\n",
    "    dict1 = {x[0]:x[1] for x in row}"
   ]
  },
  {
   "cell_type": "code",
   "execution_count": 7,
   "id": "7981305c-3d17-4af7-bf94-80423a6b6eb5",
   "metadata": {
    "tags": []
   },
   "outputs": [
    {
     "name": "stdout",
     "output_type": "stream",
     "text": [
      "{'Jan-2010': '867884', 'Feb-2010': '984655', 'Mar-2010': '322013', 'Apr-2010': '-69417', 'May-2010': '310503', 'Jun-2010': '522857', 'Jul-2010': '1033096', 'Aug-2010': '604885', 'Sep-2010': '-216386', 'Oct-2010': '477532', 'Nov-2010': '893810', 'Dec-2010': '-80353', 'Jan-2011': '779806', 'Feb-2011': '-335203', 'Mar-2011': '697845', 'Apr-2011': '793163', 'May-2011': '485070', 'Jun-2011': '584122', 'Jul-2011': '62729', 'Aug-2011': '668179', 'Sep-2011': '899906', 'Oct-2011': '834719', 'Nov-2011': '132003', 'Dec-2011': '309978', 'Jan-2012': '-755566', 'Feb-2012': '1170593', 'Mar-2012': '252788', 'Apr-2012': '1151518', 'May-2012': '817256', 'Jun-2012': '570757', 'Jul-2012': '506702', 'Aug-2012': '-1022534', 'Sep-2012': '475062', 'Oct-2012': '779976', 'Nov-2012': '144175', 'Dec-2012': '542494', 'Jan-2013': '359333', 'Feb-2013': '321469', 'Mar-2013': '67780', 'Apr-2013': '471435', 'May-2013': '565603', 'Jun-2013': '872480', 'Jul-2013': '789480', 'Aug-2013': '999942', 'Sep-2013': '-1196225', 'Oct-2013': '268997', 'Nov-2013': '-687986', 'Dec-2013': '1150461', 'Jan-2014': '682458', 'Feb-2014': '617856', 'Mar-2014': '824098', 'Apr-2014': '581943', 'May-2014': '132864', 'Jun-2014': '448062', 'Jul-2014': '689161', 'Aug-2014': '800701', 'Sep-2014': '1166643', 'Oct-2014': '947333', 'Nov-2014': '578668', 'Dec-2014': '988505', 'Jan-2015': '1139715', 'Feb-2015': '1029471', 'Mar-2015': '687533', 'Apr-2015': '-524626', 'May-2015': '158620', 'Jun-2015': '87795', 'Jul-2015': '423389', 'Aug-2015': '840723', 'Sep-2015': '568529', 'Oct-2015': '332067', 'Nov-2015': '989499', 'Dec-2015': '778237', 'Jan-2016': '650000', 'Feb-2016': '-1100387', 'Mar-2016': '-174946', 'Apr-2016': '757143', 'May-2016': '445709', 'Jun-2016': '712961', 'Jul-2016': '-1163797', 'Aug-2016': '569899', 'Sep-2016': '768450', 'Oct-2016': '102685', 'Nov-2016': '795914', 'Dec-2016': '60988', 'Jan-2017': '138230', 'Feb-2017': '671099'}\n"
     ]
    }
   ],
   "source": [
    "# Printing dictionary to check it loaded correctly\n",
    "print(dict1)"
   ]
  },
  {
   "cell_type": "code",
   "execution_count": 8,
   "id": "cad55199-b39e-406b-80e2-dd9136c7e36c",
   "metadata": {
    "tags": []
   },
   "outputs": [
    {
     "name": "stdout",
     "output_type": "stream",
     "text": [
      "{'867884': 'Jan-2010', '984655': 'Feb-2010', '322013': 'Mar-2010', '-69417': 'Apr-2010', '310503': 'May-2010', '522857': 'Jun-2010', '1033096': 'Jul-2010', '604885': 'Aug-2010', '-216386': 'Sep-2010', '477532': 'Oct-2010', '893810': 'Nov-2010', '-80353': 'Dec-2010', '779806': 'Jan-2011', '-335203': 'Feb-2011', '697845': 'Mar-2011', '793163': 'Apr-2011', '485070': 'May-2011', '584122': 'Jun-2011', '62729': 'Jul-2011', '668179': 'Aug-2011', '899906': 'Sep-2011', '834719': 'Oct-2011', '132003': 'Nov-2011', '309978': 'Dec-2011', '-755566': 'Jan-2012', '1170593': 'Feb-2012', '252788': 'Mar-2012', '1151518': 'Apr-2012', '817256': 'May-2012', '570757': 'Jun-2012', '506702': 'Jul-2012', '-1022534': 'Aug-2012', '475062': 'Sep-2012', '779976': 'Oct-2012', '144175': 'Nov-2012', '542494': 'Dec-2012', '359333': 'Jan-2013', '321469': 'Feb-2013', '67780': 'Mar-2013', '471435': 'Apr-2013', '565603': 'May-2013', '872480': 'Jun-2013', '789480': 'Jul-2013', '999942': 'Aug-2013', '-1196225': 'Sep-2013', '268997': 'Oct-2013', '-687986': 'Nov-2013', '1150461': 'Dec-2013', '682458': 'Jan-2014', '617856': 'Feb-2014', '824098': 'Mar-2014', '581943': 'Apr-2014', '132864': 'May-2014', '448062': 'Jun-2014', '689161': 'Jul-2014', '800701': 'Aug-2014', '1166643': 'Sep-2014', '947333': 'Oct-2014', '578668': 'Nov-2014', '988505': 'Dec-2014', '1139715': 'Jan-2015', '1029471': 'Feb-2015', '687533': 'Mar-2015', '-524626': 'Apr-2015', '158620': 'May-2015', '87795': 'Jun-2015', '423389': 'Jul-2015', '840723': 'Aug-2015', '568529': 'Sep-2015', '332067': 'Oct-2015', '989499': 'Nov-2015', '778237': 'Dec-2015', '650000': 'Jan-2016', '-1100387': 'Feb-2016', '-174946': 'Mar-2016', '757143': 'Apr-2016', '445709': 'May-2016', '712961': 'Jun-2016', '-1163797': 'Jul-2016', '569899': 'Aug-2016', '768450': 'Sep-2016', '102685': 'Oct-2016', '795914': 'Nov-2016', '60988': 'Dec-2016', '138230': 'Jan-2017', '671099': 'Feb-2017'}\n"
     ]
    }
   ],
   "source": [
    "# Swapping the key : value pairs, printing results to verify accuracy\n",
    "dict1_swap = {v : k for k, v in dict1.items()}\n",
    "print(dict1_swap)"
   ]
  },
  {
   "cell_type": "code",
   "execution_count": 9,
   "id": "88d08031-aa7f-40da-8714-6c76bc313546",
   "metadata": {
    "tags": []
   },
   "outputs": [
    {
     "name": "stdout",
     "output_type": "stream",
     "text": [
      "Financial Analysis\n",
      "---------------------------\n",
      "Total Months: 86\n",
      "Total Profit: $38382578\n",
      "Average Profit: $-2315.12\n",
      "Greatest Increase in Profits: Feb-2012 $(1926159)\n",
      "Greatest Decrease in Profits: Sep-2013 $(-2196167)\n",
      "________________________________________________________\n"
     ]
    }
   ],
   "source": [
    "# Printing results to check formatting \n",
    "print(\"Financial Analysis\"),\n",
    "print('---------------------------')\n",
    "print(f'Total Months: {total_months}'),\n",
    "print(f'Total Profit: ${net_prof}'),\n",
    "print(f'Average Profit: ${avg}'),\n",
    "print(f'Greatest Increase in Profits: {dict1_swap[str(max_prof)]} $({greatest})'),\n",
    "print(f'Greatest Decrease in Profits: {dict1_swap[str(min_prof)]} $({lowest})'),\n",
    "print('________________________________________________________')"
   ]
  },
  {
   "cell_type": "code",
   "execution_count": 10,
   "id": "6f8980c1-34d7-408f-b387-583aa51708f9",
   "metadata": {
    "tags": []
   },
   "outputs": [],
   "source": [
    "# Setting vairaibles to output to txt file\n",
    "fin = (\"Financial Analysis\")\n",
    "sep = ('---------------------------')\n",
    "mon = (f'Total Months: {total_months}')\n",
    "tprof = (f'Total Profit: ${net_prof}')\n",
    "avprof = (f'Average Profit: ${avg}')\n",
    "gprof = (f'Greatest Increase in Profits: {dict1_swap[str(max_prof)]} $({greatest})')\n",
    "mprof = (f'Greatest Decrease in Profits: {dict1_swap[str(min_prof)]} $({lowest})')\n",
    "end = ('________________________________________________________')"
   ]
  },
  {
   "cell_type": "code",
   "execution_count": 11,
   "id": "e34466aa-6f38-4124-bcb5-9b3604751514",
   "metadata": {
    "tags": []
   },
   "outputs": [],
   "source": [
    "# Printing results to .txt file\n",
    "metrics = [fin, sep, mon, tprof, avprof, gprof, mprof, end]\n",
    "analysis = Path('analysis.txt')\n",
    "with open(analysis, 'w') as file:\n",
    "    for metrics in metrics:\n",
    "        file.write(metrics)\n",
    "        file.write('\\n')"
   ]
  }
 ],
 "metadata": {
  "kernelspec": {
   "display_name": "Python 3 (ipykernel)",
   "language": "python",
   "name": "python3"
  },
  "language_info": {
   "codemirror_mode": {
    "name": "ipython",
    "version": 3
   },
   "file_extension": ".py",
   "mimetype": "text/x-python",
   "name": "python",
   "nbconvert_exporter": "python",
   "pygments_lexer": "ipython3",
   "version": "3.11.5"
  }
 },
 "nbformat": 4,
 "nbformat_minor": 5
}
